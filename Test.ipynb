{
 "cells": [
  {
   "cell_type": "code",
   "execution_count": 1,
   "id": "dfd244c0",
   "metadata": {},
   "outputs": [],
   "source": [
    "from find_shortest_path import get_path\n",
    "from build_data import build_data\n",
    "import pandas as pd\n",
    "from heuristic_functions import heuristic2\n",
    "from plot_underground_path import plot_path"
   ]
  },
  {
   "cell_type": "code",
   "execution_count": 2,
   "id": "55829f5e",
   "metadata": {},
   "outputs": [],
   "source": [
    "\n",
    "stations, underground_lines = build_data()\n"
   ]
  },
  {
   "cell_type": "code",
   "execution_count": 3,
   "id": "c217a7ea",
   "metadata": {},
   "outputs": [],
   "source": [
    "path = get_path(start_station_name = 'Alperton', end_station_name = 'Victoria', stations_map = stations)\n",
    "# visualization the path\n",
    "# Open the visualization_underground/my_path_in_London_railway.html to view the path, and your path is marked in red\n",
    "\n"
   ]
  },
  {
   "cell_type": "code",
   "execution_count": 4,
   "id": "1591712f",
   "metadata": {},
   "outputs": [
    {
     "name": "stdout",
     "output_type": "stream",
     "text": [
      "['Alperton', 'Park Royal', 'North Ealing', 'Ealing Common', 'Acton Town', 'Turnham Green', 'Hammersmith', 'Barons Court', \"Earl's Court\", 'Gloucester Road', 'South Kensington', 'Sloane Square', 'Victoria']\n"
     ]
    }
   ],
   "source": [
    "print(path)"
   ]
  },
  {
   "cell_type": "code",
   "execution_count": 5,
   "id": "c2bcfb13",
   "metadata": {},
   "outputs": [],
   "source": [
    "plot_path(path, 'visualization_underground/my_shortest_path_in_London_railway.html', stations, underground_lines)"
   ]
  }
 ],
 "metadata": {
  "kernelspec": {
   "display_name": "Python 3 (ipykernel)",
   "language": "python",
   "name": "python3"
  },
  "language_info": {
   "codemirror_mode": {
    "name": "ipython",
    "version": 3
   },
   "file_extension": ".py",
   "mimetype": "text/x-python",
   "name": "python",
   "nbconvert_exporter": "python",
   "pygments_lexer": "ipython3",
   "version": "3.10.12"
  }
 },
 "nbformat": 4,
 "nbformat_minor": 5
}
